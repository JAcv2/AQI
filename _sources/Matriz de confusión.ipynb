{
 "cells": [
  {
   "cell_type": "markdown",
   "metadata": {},
   "source": [
    "# Matriz de confusión"
   ]
  },
  {
   "cell_type": "markdown",
   "metadata": {},
   "source": [
    "Un matriz de confusión resume el rendimiento de una modelo de clasificación para identificar casos en los que el modelo se confunde, lo que puede indicar ajustes en el modelo.\n",
    "\n",
    "A continuacion explicaremos la correcta interpretación de una matriz de confusión:\n",
    "\n",
    "La salida es una matriz de 2x2, las filas corresponden a las clases verdaderas y las columnas a las clases predichas.\n",
    "Cada celda cuenta la frecuencia de clasificaciones correctas o incorrectas de cada clase."
   ]
  },
  {
   "cell_type": "code",
   "execution_count": 1,
   "metadata": {},
   "outputs": [
    {
     "ename": "ModuleNotFoundError",
     "evalue": "No module named 'sklearn'",
     "output_type": "error",
     "traceback": [
      "\u001b[1;31m---------------------------------------------------------------------------\u001b[0m",
      "\u001b[1;31mModuleNotFoundError\u001b[0m                       Traceback (most recent call last)",
      "Cell \u001b[1;32mIn[1], line 1\u001b[0m\n\u001b[1;32m----> 1\u001b[0m \u001b[39mfrom\u001b[39;00m \u001b[39msklearn\u001b[39;00m\u001b[39m.\u001b[39;00m\u001b[39mmetrics\u001b[39;00m \u001b[39mimport\u001b[39;00m confusion_matrix\n\u001b[0;32m      2\u001b[0m \u001b[39mimport\u001b[39;00m \u001b[39mmglearn\u001b[39;00m\n\u001b[0;32m      3\u001b[0m mglearn\u001b[39m.\u001b[39mplots\u001b[39m.\u001b[39mplot_binary_confusion_matrix()\n",
      "\u001b[1;31mModuleNotFoundError\u001b[0m: No module named 'sklearn'"
     ]
    }
   ],
   "source": [
    "from sklearn.metrics import confusion_matrix\n",
    "import mglearn\n",
    "mglearn.plots.plot_binary_confusion_matrix()"
   ]
  },
  {
   "cell_type": "code",
   "execution_count": 1,
   "metadata": {},
   "outputs": [
    {
     "name": "stdout",
     "output_type": "stream",
     "text": [
      "Root Mean Squared Error: 166.94916049340634\n"
     ]
    }
   ],
   "source": [
    "import pandas as pd\n",
    "import numpy as np\n",
    "from sklearn.model_selection import train_test_split\n",
    "from sklearn.linear_model import LinearRegression\n",
    "from sklearn.metrics import mean_squared_error\n",
    "\n",
    "# Create a simulated sales dataset\n",
    "np.random.seed(0)\n",
    "data = pd.DataFrame({\n",
    "    'Marketing_Budget': np.random.rand(100) * 1000,  # Marketing budget in thousands\n",
    "    'Economy_Condition': np.random.randint(2, 10, 100),  # Scale of 2 to 10\n",
    "    'Sales': np.random.rand(100) * 500  # Sales in thousands\n",
    "})\n",
    "\n",
    "# Add a realistic touch that sales are somewhat influenced by budget and economy\n",
    "data['Sales'] += data['Marketing_Budget'] * 0.5 + data['Economy_Condition'] * 10\n",
    "\n",
    "# Feature columns\n",
    "feature_cols = ['Marketing_Budget', 'Economy_Condition']\n",
    "X = data[feature_cols]\n",
    "y = data['Sales']\n",
    "\n",
    "# Split the data\n",
    "X_train, X_test, y_train, y_test = train_test_split(X, y, test_size=0.2, random_state=0)\n",
    "\n",
    "# Train the model\n",
    "model = LinearRegression()\n",
    "model.fit(X_train, y_train)\n",
    "\n",
    "# Make predictions\n",
    "predictions = model.predict(X_test)\n",
    "\n",
    "# Calculate accuracy using a metric like RMSE\n",
    "rmse = np.sqrt(mean_squared_error(y_test, predictions))\n",
    "print('Root Mean Squared Error:', rmse)\n"
   ]
  },
  {
   "cell_type": "code",
   "execution_count": 2,
   "metadata": {},
   "outputs": [
    {
     "data": {
      "text/html": [
       "<div>\n",
       "<style scoped>\n",
       "    .dataframe tbody tr th:only-of-type {\n",
       "        vertical-align: middle;\n",
       "    }\n",
       "\n",
       "    .dataframe tbody tr th {\n",
       "        vertical-align: top;\n",
       "    }\n",
       "\n",
       "    .dataframe thead th {\n",
       "        text-align: right;\n",
       "    }\n",
       "</style>\n",
       "<table border=\"1\" class=\"dataframe\">\n",
       "  <thead>\n",
       "    <tr style=\"text-align: right;\">\n",
       "      <th></th>\n",
       "      <th>Marketing_Budget</th>\n",
       "      <th>Economy_Condition</th>\n",
       "      <th>Sales</th>\n",
       "    </tr>\n",
       "  </thead>\n",
       "  <tbody>\n",
       "    <tr>\n",
       "      <th>0</th>\n",
       "      <td>548.813504</td>\n",
       "      <td>7</td>\n",
       "      <td>419.130904</td>\n",
       "    </tr>\n",
       "    <tr>\n",
       "      <th>1</th>\n",
       "      <td>715.189366</td>\n",
       "      <td>4</td>\n",
       "      <td>831.657712</td>\n",
       "    </tr>\n",
       "    <tr>\n",
       "      <th>2</th>\n",
       "      <td>602.763376</td>\n",
       "      <td>5</td>\n",
       "      <td>432.628155</td>\n",
       "    </tr>\n",
       "    <tr>\n",
       "      <th>3</th>\n",
       "      <td>544.883183</td>\n",
       "      <td>8</td>\n",
       "      <td>660.221374</td>\n",
       "    </tr>\n",
       "    <tr>\n",
       "      <th>4</th>\n",
       "      <td>423.654799</td>\n",
       "      <td>4</td>\n",
       "      <td>313.737391</td>\n",
       "    </tr>\n",
       "  </tbody>\n",
       "</table>\n",
       "</div>"
      ],
      "text/plain": [
       "   Marketing_Budget  Economy_Condition       Sales\n",
       "0        548.813504                  7  419.130904\n",
       "1        715.189366                  4  831.657712\n",
       "2        602.763376                  5  432.628155\n",
       "3        544.883183                  8  660.221374\n",
       "4        423.654799                  4  313.737391"
      ]
     },
     "execution_count": 2,
     "metadata": {},
     "output_type": "execute_result"
    }
   ],
   "source": [
    "data.head()"
   ]
  }
 ],
 "metadata": {
  "kernelspec": {
   "display_name": "ml_venv",
   "language": "python",
   "name": "python3"
  },
  "language_info": {
   "codemirror_mode": {
    "name": "ipython",
    "version": 3
   },
   "file_extension": ".py",
   "mimetype": "text/x-python",
   "name": "python",
   "nbconvert_exporter": "python",
   "pygments_lexer": "ipython3",
   "version": "3.9.18"
  },
  "orig_nbformat": 4
 },
 "nbformat": 4,
 "nbformat_minor": 2
}
